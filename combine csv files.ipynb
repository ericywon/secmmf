{
 "cells": [
  {
   "cell_type": "code",
   "execution_count": null,
   "metadata": {},
   "outputs": [],
   "source": [
    "import pandas as pd\n",
    "import matplotlib.pyplot as plt\n",
    "import datetime\n",
    "import os\n",
    "import csv\n",
    "import timeit\n",
    "\n",
    "from os import listdir\n",
    "from os.path import isfile, join\n",
    "from IPython.display import clear_output"
   ]
  },
  {
   "cell_type": "code",
   "execution_count": null,
   "metadata": {},
   "outputs": [],
   "source": [
    "data_dir = '/Users/yangjuehan/parse mmf/N-MFP2_csv/'\n",
    "errorlog = pd.read_csv(data_dir + 'error_log.csv', dtype = str)\n",
    "error_cik = [x for x in list(errorlog['cik2'].values)]\n",
    "error_acc = [x for x in list(errorlog['accession_num'].values)]\n",
    "error_paths = [x[0]+'_'+x[1]+'.csv' for x in zip(error_cik,error_acc)]\n",
    "\n",
    "allpaths = pd.read_csv(data_dir + 'xmlpath.csv', dtype = str)\n",
    "cik = [x for x in list(allpaths['cik2'].values)]\n",
    "acc = [x for x in list(allpaths['accession_num'].values)]\n",
    "filepaths = [x[0]+'_'+x[1]+'.csv' for x in zip(cik,acc)]"
   ]
  },
  {
   "cell_type": "code",
   "execution_count": null,
   "metadata": {},
   "outputs": [],
   "source": [
    "crawledpaths = []\n",
    "for x in filepaths:\n",
    "    if x not in error_paths:\n",
    "        crawledpaths.append(x)\n",
    "len(error_paths), len(filepaths), len(crawledpaths)"
   ]
  },
  {
   "cell_type": "code",
   "execution_count": null,
   "metadata": {},
   "outputs": [],
   "source": [
    "N = len(crawledpaths)\n",
    "N_blocks = 10\n",
    "block_len = int(N/N_blocks)\n",
    "res_len = N%block_len\n",
    "print(N,N_blocks,block_len,res_len)"
   ]
  },
  {
   "cell_type": "code",
   "execution_count": null,
   "metadata": {},
   "outputs": [],
   "source": [
    "for i in range(N_blocks):\n",
    "    if i < (N_blocks-1):\n",
    "        block_paths = crawledpaths[i*block_len:(i+1)*block_len]\n",
    "    else:\n",
    "        block_paths = crawledpaths[i*block_len:]\n",
    "    \n",
    "    data_path = data_dir + 'NMFP2_data_' + str(i+1) + '.csv'\n",
    "    \n",
    "    start = timeit.default_timer()\n",
    "    n = 0\n",
    "    data = pd.DataFrame()\n",
    "    for f in block_paths:\n",
    "        n += 1\n",
    "        df = pd.read_csv(data_dir + f)\n",
    "        data = data.append(df, ignore_index = True, sort = False)\n",
    "\n",
    "        if n%10 == 0:\n",
    "            clear_output(wait = True)\n",
    "            stop = timeit.default_timer()\n",
    "            perc_run = n/block_len\n",
    "            multiple_remain = (block_len-n)/n\n",
    "            mins_elapse = (stop-start)/60\n",
    "            \n",
    "            print('Block: {}'.format(i+1))\n",
    "            print('{:.2f}% finished'.format(perc_run*100))\n",
    "            print('Current run time: {:.1f} minutes.'.format(mins_elapse))\n",
    "            print('Expected remaining run time: {:.1f} minutes'.format(mins_elapse*multiple_remain))\n",
    "    data.to_csv(data_path)"
   ]
  },
  {
   "cell_type": "code",
   "execution_count": null,
   "metadata": {},
   "outputs": [],
   "source": [
    "final_data = pd.DataFrame()\n",
    "for i in range(N_blocks):\n",
    "    data_path = data_dir + 'NMFP2_data_' + str(i+1) + '.csv'\n",
    "    final_data = final_data.append(pd.read_csv(data_path), ignore_index = True, sort = False)\n",
    "final_data.to_csv('NMFP2_data.csv')"
   ]
  },
  {
   "cell_type": "code",
   "execution_count": null,
   "metadata": {},
   "outputs": [],
   "source": []
  },
  {
   "cell_type": "code",
   "execution_count": null,
   "metadata": {},
   "outputs": [],
   "source": []
  }
 ],
 "metadata": {
  "kernelspec": {
   "display_name": "Python 3",
   "language": "python",
   "name": "python3"
  },
  "language_info": {
   "codemirror_mode": {
    "name": "ipython",
    "version": 3
   },
   "file_extension": ".py",
   "mimetype": "text/x-python",
   "name": "python",
   "nbconvert_exporter": "python",
   "pygments_lexer": "ipython3",
   "version": "3.6.8"
  }
 },
 "nbformat": 4,
 "nbformat_minor": 2
}
